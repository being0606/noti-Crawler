{
 "cells": [
  {
   "cell_type": "code",
   "execution_count": 36,
   "metadata": {},
   "outputs": [],
   "source": [
    "# pip install google-generativeai"
   ]
  },
  {
   "cell_type": "code",
   "execution_count": 34,
   "metadata": {},
   "outputs": [
    {
     "ename": "ModuleNotFoundError",
     "evalue": "No module named 'google.generativeai'",
     "output_type": "error",
     "traceback": [
      "\u001b[0;31m---------------------------------------------------------------------------\u001b[0m",
      "\u001b[0;31mModuleNotFoundError\u001b[0m                       Traceback (most recent call last)",
      "Cell \u001b[0;32mIn[34], line 1\u001b[0m\n\u001b[0;32m----> 1\u001b[0m \u001b[38;5;28;01mimport\u001b[39;00m \u001b[38;5;21;01mgoogle\u001b[39;00m\u001b[38;5;21;01m.\u001b[39;00m\u001b[38;5;21;01mgenerativeai\u001b[39;00m \u001b[38;5;28;01mas\u001b[39;00m \u001b[38;5;21;01mgenai\u001b[39;00m\n\u001b[1;32m      3\u001b[0m \u001b[38;5;28;01mfrom\u001b[39;00m \u001b[38;5;21;01mselenium\u001b[39;00m \u001b[38;5;28;01mimport\u001b[39;00m webdriver\n\u001b[1;32m      4\u001b[0m \u001b[38;5;28;01mfrom\u001b[39;00m \u001b[38;5;21;01mselenium\u001b[39;00m\u001b[38;5;21;01m.\u001b[39;00m\u001b[38;5;21;01mwebdriver\u001b[39;00m\u001b[38;5;21;01m.\u001b[39;00m\u001b[38;5;21;01mcommon\u001b[39;00m\u001b[38;5;21;01m.\u001b[39;00m\u001b[38;5;21;01mby\u001b[39;00m \u001b[38;5;28;01mimport\u001b[39;00m By\n",
      "\u001b[0;31mModuleNotFoundError\u001b[0m: No module named 'google.generativeai'"
     ]
    }
   ],
   "source": [
    "import google.generativeai as genai\n",
    "\n",
    "from selenium import webdriver\n",
    "from selenium.webdriver.common.by import By\n",
    "\n",
    "import pandas as pd"
   ]
  },
  {
   "cell_type": "code",
   "execution_count": 2,
   "metadata": {},
   "outputs": [],
   "source": [
    "browser = webdriver.Chrome()\n",
    "browser.get('https://cms.kangwon.ac.kr/ai/community/notice.do')"
   ]
  },
  {
   "cell_type": "code",
   "execution_count": 3,
   "metadata": {},
   "outputs": [],
   "source": [
    "# 0.1초~0.3초 사이의 랜덤한 시간을 주어서 자동화를 인식하지 못하게 함\n",
    "import time\n",
    "import random\n",
    "\n",
    "time.sleep(random.uniform(0.1, 0.3))"
   ]
  },
  {
   "cell_type": "code",
   "execution_count": 19,
   "metadata": {},
   "outputs": [
    {
     "data": {
      "text/plain": [
       "'[공지] 2024학년도 신입생 수강신청 관련 주요사항 안내 *필독*'"
      ]
     },
     "execution_count": 19,
     "metadata": {},
     "output_type": "execute_result"
    }
   ],
   "source": [
    "title = browser.find_elements(By.CLASS_NAME, \"b-title-box\")[1].text\n",
    "title"
   ]
  },
  {
   "cell_type": "code",
   "execution_count": 25,
   "metadata": {},
   "outputs": [
    {
     "data": {
      "text/plain": [
       "[<selenium.webdriver.remote.webelement.WebElement (session=\"b6244e8813521fa20436a8c31293f234\", element=\"F5257D5BC64B17B254BCC09BA68B5764_element_1544\")>,\n",
       " <selenium.webdriver.remote.webelement.WebElement (session=\"b6244e8813521fa20436a8c31293f234\", element=\"F5257D5BC64B17B254BCC09BA68B5764_element_1545\")>,\n",
       " <selenium.webdriver.remote.webelement.WebElement (session=\"b6244e8813521fa20436a8c31293f234\", element=\"F5257D5BC64B17B254BCC09BA68B5764_element_1546\")>,\n",
       " <selenium.webdriver.remote.webelement.WebElement (session=\"b6244e8813521fa20436a8c31293f234\", element=\"F5257D5BC64B17B254BCC09BA68B5764_element_29\")>,\n",
       " <selenium.webdriver.remote.webelement.WebElement (session=\"b6244e8813521fa20436a8c31293f234\", element=\"F5257D5BC64B17B254BCC09BA68B5764_element_80\")>,\n",
       " <selenium.webdriver.remote.webelement.WebElement (session=\"b6244e8813521fa20436a8c31293f234\", element=\"F5257D5BC64B17B254BCC09BA68B5764_element_1549\")>,\n",
       " <selenium.webdriver.remote.webelement.WebElement (session=\"b6244e8813521fa20436a8c31293f234\", element=\"F5257D5BC64B17B254BCC09BA68B5764_element_1553\")>,\n",
       " <selenium.webdriver.remote.webelement.WebElement (session=\"b6244e8813521fa20436a8c31293f234\", element=\"F5257D5BC64B17B254BCC09BA68B5764_element_1557\")>,\n",
       " <selenium.webdriver.remote.webelement.WebElement (session=\"b6244e8813521fa20436a8c31293f234\", element=\"F5257D5BC64B17B254BCC09BA68B5764_element_1564\")>,\n",
       " <selenium.webdriver.remote.webelement.WebElement (session=\"b6244e8813521fa20436a8c31293f234\", element=\"F5257D5BC64B17B254BCC09BA68B5764_element_1571\")>,\n",
       " <selenium.webdriver.remote.webelement.WebElement (session=\"b6244e8813521fa20436a8c31293f234\", element=\"F5257D5BC64B17B254BCC09BA68B5764_element_1574\")>,\n",
       " <selenium.webdriver.remote.webelement.WebElement (session=\"b6244e8813521fa20436a8c31293f234\", element=\"F5257D5BC64B17B254BCC09BA68B5764_element_1578\")>,\n",
       " <selenium.webdriver.remote.webelement.WebElement (session=\"b6244e8813521fa20436a8c31293f234\", element=\"F5257D5BC64B17B254BCC09BA68B5764_element_1631\")>,\n",
       " <selenium.webdriver.remote.webelement.WebElement (session=\"b6244e8813521fa20436a8c31293f234\", element=\"F5257D5BC64B17B254BCC09BA68B5764_element_1632\")>,\n",
       " <selenium.webdriver.remote.webelement.WebElement (session=\"b6244e8813521fa20436a8c31293f234\", element=\"F5257D5BC64B17B254BCC09BA68B5764_element_1633\")>,\n",
       " <selenium.webdriver.remote.webelement.WebElement (session=\"b6244e8813521fa20436a8c31293f234\", element=\"F5257D5BC64B17B254BCC09BA68B5764_element_1634\")>,\n",
       " <selenium.webdriver.remote.webelement.WebElement (session=\"b6244e8813521fa20436a8c31293f234\", element=\"F5257D5BC64B17B254BCC09BA68B5764_element_1635\")>]"
      ]
     },
     "execution_count": 25,
     "metadata": {},
     "output_type": "execute_result"
    }
   ],
   "source": [
    "title = browser.find_elements(By.CLASS_NAME, \"b-title-box\")\n",
    "title"
   ]
  },
  {
   "cell_type": "code",
   "execution_count": 27,
   "metadata": {},
   "outputs": [
    {
     "data": {
      "text/plain": [
       "[<selenium.webdriver.remote.webelement.WebElement (session=\"b6244e8813521fa20436a8c31293f234\", element=\"F5257D5BC64B17B254BCC09BA68B5764_element_582\")>]"
      ]
     },
     "execution_count": 27,
     "metadata": {},
     "output_type": "execute_result"
    }
   ],
   "source": [
    "date = browser.find_elements(By.CSS_SELECTOR, \"#cms-content > div > div > div.bn-list-common01.type01.bn-common > table > tbody > tr:nth-child(8) > td:nth-child(4)\")\n",
    "date1"
   ]
  },
  {
   "cell_type": "code",
   "execution_count": 32,
   "metadata": {},
   "outputs": [
    {
     "name": "stdout",
     "output_type": "stream",
     "text": [
      "0\n",
      "1\n",
      "2\n",
      "3\n",
      "4\n",
      "5\n",
      "6\n",
      "7\n",
      "8\n",
      "9\n",
      "10\n",
      "11\n",
      "12\n",
      "13\n",
      "14\n",
      "15\n",
      "16\n"
     ]
    }
   ],
   "source": [
    "# 댓글 요소를 찾음\n",
    "title = browser.find_elements(By.CLASS_NAME, \"b-title-box\")\n",
    "date = browser.find_elements(By.CSS_SELECTOR, \"#cms-content > div > div > div.bn-list-common01.type01.bn-common > table > tbody > tr:nth-child(8) > td:nth-child(4)\")\n",
    "\n",
    "# title, date를 df로 저장\n",
    "title_list = []\n",
    "\n",
    "for i in range(len(title)):\n",
    "    title_list.append(title[i].text)\n",
    "    print(i)\n",
    "    \n",
    "df = pd.DataFrame({'title': title_list})\n",
    "df.to_csv('kangwon.csv', index=False)\n"
   ]
  },
  {
   "cell_type": "code",
   "execution_count": 33,
   "metadata": {},
   "outputs": [
    {
     "data": {
      "text/plain": [
       "['[공지] 2024학년도 재학생(2022학번 이전 학번) 수강신청 관련 주요사항 안내',\n",
       " '[공지] 2024학년도 신입생 수강신청 관련 주요사항 안내 *필독*',\n",
       " '2024학년도 1학기 재학생 등록금 수납계획 알림',\n",
       " '[안내] 2024학년도 1학기 휴학 및 복학 신청 안내',\n",
       " 'AI융합학과 졸업 요건 안내',\n",
       " '[교육] 2023학년도 2학기 스마트폰 과의존 예방교육 이수 안내(23.03.01~24.02.29.)',\n",
       " '[안내] 공결 신청 안내',\n",
       " '[안내] 2024년 상반기 한·미 대학생 연수(WEST) 프로그램 참가자 모집 안내 NEW',\n",
       " '[안내] 2024학년도 KNU 현장 연계형 새내기진로탐색 [각양각색 各樣各色] 신청안내(~2/26(월)까지) NEW',\n",
       " '[장학] 2024학년도 1학기 국가장학금 2차 신청 안내',\n",
       " '[장학] 2024학년도 1학기 국가근로장학금 희망근로기관 신청 안내',\n",
       " '[안내] 2024학년도 1학기 거점국립대학 원격수업 학점교류 강좌 수강 안내',\n",
       " '[교육] 2023학년도 동계 컴퓨터 활용 능력 향상 프로그램',\n",
       " '[교육] 정밀의료 데이터 분석을 위한 머신러닝, 의료 데이터 딥러닝 부트캠프',\n",
       " '[장학] 2024학년도 신입생 우선감면 장학 신청 안내',\n",
       " '[장학] 2024학년도 1학기푸른등대 기부장학사업 신규장학생 선발 안내',\n",
       " '[장학] 2024년도 1, 2학기 ACS-ESP Buddy Program 선발 안내']"
      ]
     },
     "execution_count": 33,
     "metadata": {},
     "output_type": "execute_result"
    }
   ],
   "source": [
    "title_list"
   ]
  },
  {
   "cell_type": "code",
   "execution_count": null,
   "metadata": {},
   "outputs": [],
   "source": []
  }
 ],
 "metadata": {
  "kernelspec": {
   "display_name": "Python 3",
   "language": "python",
   "name": "python3"
  },
  "language_info": {
   "codemirror_mode": {
    "name": "ipython",
    "version": 3
   },
   "file_extension": ".py",
   "mimetype": "text/x-python",
   "name": "python",
   "nbconvert_exporter": "python",
   "pygments_lexer": "ipython3",
   "version": "3.9.6"
  }
 },
 "nbformat": 4,
 "nbformat_minor": 2
}
